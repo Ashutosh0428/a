{
 "cells": [
  {
   "cell_type": "markdown",
   "id": "f27cb077",
   "metadata": {},
   "source": [
    "# Assignment_8"
   ]
  },
  {
   "cell_type": "markdown",
   "id": "8aae925b",
   "metadata": {},
   "source": [
    "1.PyInputPlus is a Python module used for taking inputs with additional validation features."
   ]
  },
  {
   "cell_type": "markdown",
   "id": "dad58136",
   "metadata": {},
   "source": [
    "2.\n",
    "\n",
    "You can import the module with import pyinputplus as pyip so that you can enter a shorter name when calling the module's functions. PyInputPlus has functions for entering a variety of input, including strings, numbers, dates, yes/no, True/False, emails, and files"
   ]
  },
  {
   "cell_type": "markdown",
   "id": "e8763081",
   "metadata": {},
   "source": [
    "3.\n",
    "inputInt() : Accepts an integer value. This also takes additional parameters 'min', 'max', 'greaterThan' and 'lessThan' for bounds. Returns an int. \n",
    "\n",
    "inputFloat() : Accepts a floating-point numeric value"
   ]
  },
  {
   "cell_type": "markdown",
   "id": "9a217dbc",
   "metadata": {},
   "source": [
    "4.\n",
    "pyip.inputint(min=0, max=99)"
   ]
  },
  {
   "cell_type": "markdown",
   "id": "12df4ff5",
   "metadata": {},
   "source": [
    "5.\n",
    "The allowRegexes and blockRegexes keyword arguments take a list of regular expression strings to determine what the PyInputPlus function will accept or reject as valid input.\n"
   ]
  },
  {
   "cell_type": "markdown",
   "id": "343d2f6b",
   "metadata": {},
   "source": [
    "6.\n",
    "It will return None as a value"
   ]
  },
  {
   "cell_type": "markdown",
   "id": "97fda23e",
   "metadata": {},
   "source": [
    "7.\n",
    "It will return None as a value"
   ]
  },
  {
   "cell_type": "markdown",
   "id": "8f7a8750",
   "metadata": {},
   "source": []
  }
 ],
 "metadata": {
  "kernelspec": {
   "display_name": "Python 3 (ipykernel)",
   "language": "python",
   "name": "python3"
  },
  "language_info": {
   "codemirror_mode": {
    "name": "ipython",
    "version": 3
   },
   "file_extension": ".py",
   "mimetype": "text/x-python",
   "name": "python",
   "nbconvert_exporter": "python",
   "pygments_lexer": "ipython3",
   "version": "3.9.7"
  }
 },
 "nbformat": 4,
 "nbformat_minor": 5
}
